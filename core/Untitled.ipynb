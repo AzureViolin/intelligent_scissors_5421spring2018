{
 "cells": [
  {
   "cell_type": "code",
   "execution_count": 6,
   "metadata": {},
   "outputs": [],
   "source": [
    "import queue\n",
    "import heapdict \n",
    "\n",
    "class PQ_Node(object):\n",
    "    def __init__(self, linkCost, state, totalCost, prevNode, pose):\n",
    "        self.linkCost =None\n",
    "        self.state = 0 # initial\n",
    "        self.totalCost = totalCost\n",
    "        self.prevNode = None\n",
    "        self.pose = None # (row,colum)\n",
    "    \n",
    "    #def __cmp__(self, other):\n",
    "    #    return cmp(self.totalCost, other.totalCost)\n",
    "    def __lt__(self, other):\n",
    "        return (self.totalCost < other.totalCost)\n",
    "    def __eq__(self, other):\n",
    "        return (self.totalCost < other.totalCost)"
   ]
  },
  {
   "cell_type": "code",
   "execution_count": 7,
   "metadata": {},
   "outputs": [],
   "source": [
    "#pq = queue.PriorityQueue()\n",
    "pq = heapdict.heapdict()"
   ]
  },
  {
   "cell_type": "code",
   "execution_count": 10,
   "metadata": {},
   "outputs": [],
   "source": [
    "a = PQ_Node(1,1,0,1,1)\n",
    "pq[\"a\"] = 5\n",
    "c = PQ_Node(1,5,0,1,1)\n",
    "pq[\"b\"] = 6\n",
    "#print (a<c)"
   ]
  },
  {
   "cell_type": "code",
   "execution_count": 4,
   "metadata": {},
   "outputs": [],
   "source": [
    "a.totalCost = 3\n",
    "c.totalCost=4\n"
   ]
  },
  {
   "cell_type": "code",
   "execution_count": 5,
   "metadata": {},
   "outputs": [
    {
     "name": "stdout",
     "output_type": "stream",
     "text": [
      "0\n"
     ]
    }
   ],
   "source": [
    "b = pq.get()\n",
    "print (b.state)"
   ]
  }
 ],
 "metadata": {
  "kernelspec": {
   "display_name": "Python 3",
   "language": "python",
   "name": "python3"
  },
  "language_info": {
   "codemirror_mode": {
    "name": "ipython",
    "version": 3
   },
   "file_extension": ".py",
   "mimetype": "text/x-python",
   "name": "python",
   "nbconvert_exporter": "python",
   "pygments_lexer": "ipython3",
   "version": "3.6.3"
  }
 },
 "nbformat": 4,
 "nbformat_minor": 2
}
